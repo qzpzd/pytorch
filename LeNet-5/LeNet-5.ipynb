{
 "cells": [
  {
   "cell_type": "code",
   "execution_count": 31,
   "id": "c0bc94f9-f9f8-40c5-9807-a3e21cc4d53f",
   "metadata": {},
   "outputs": [],
   "source": [
    "import torch\n",
    "import torch.nn as nn\n",
    "import torch.nn.functional as F\n",
    "import torch.optim as optim\n",
    "from torchvision import datasets, transforms\n",
    "import time\n",
    "from matplotlib import pyplot as plt"
   ]
  },
  {
   "cell_type": "markdown",
   "id": "7ad19817-33da-4b71-ab7e-7dde60c2b6d4",
   "metadata": {},
   "source": [
    "# 一、使用LeNet-5网络结构创建MNIST手写数字识别分类器"
   ]
  },
  {
   "cell_type": "markdown",
   "id": "c83d117a-fcf0-456c-820e-0ee5365b7a09",
   "metadata": {},
   "source": [
    "MNIST是一个非常有名的手写体数字识别数据集，训练样本：共60000个，其中55000个用于训练，另外5000个用于验证；测试样本：共10000个。MNIST数据集每张图片是单通道的，大小为28x28."
   ]
  },
  {
   "cell_type": "markdown",
   "id": "a61e91f3-cdac-47c0-bb5e-5cfec613b6ff",
   "metadata": {},
   "source": [
    "![](./images/mnist.jpg)"
   ]
  },
  {
   "cell_type": "markdown",
   "id": "7f392f9d-a1d4-4e6e-b093-caa587bc6506",
   "metadata": {},
   "source": [
    "## 1.1 下载并加载数据，并做出一定的预先处理"
   ]
  },
  {
   "cell_type": "markdown",
   "id": "129a6ea4-0d2b-428f-b84b-a6ec2e59996f",
   "metadata": {},
   "source": [
    "由于MNIST数据集图片尺寸是28x28单通道的，而LeNet-5网络输入Input图片尺寸是32x32，因此使用transforms.Resize将输入图片尺寸调整为32x32。"
   ]
  },
  {
   "cell_type": "code",
   "execution_count": 51,
   "id": "4850476e-8c74-4a56-b7fb-263a42a1dd10",
   "metadata": {},
   "outputs": [],
   "source": [
    "pipline_train = transforms.Compose([\n",
    "    #随机旋转图片\n",
    "    transforms.RandomHorizontalFlip(),\n",
    "    #将图片尺寸resize到32x32\n",
    "    transforms.Resize((32,32)),\n",
    "    #将图片转化为Tensor格式\n",
    "    transforms.ToTensor(),\n",
    "    #正则化(当模型出现过拟合的情况时，用来降低模型的复杂度)\n",
    "    transforms.Normalize((0.1307,),(0.3081,))    \n",
    "])\n",
    "pipline_test = transforms.Compose([\n",
    "    #将图片尺寸resize到32x32\n",
    "    transforms.Resize((32,32)),\n",
    "    transforms.ToTensor(),\n",
    "    transforms.Normalize((0.1307,),(0.3081,))\n",
    "])\n",
    "#下载数据集\n",
    "train_set = datasets.MNIST(root=\"./data\", train=True, download=True, transform=pipline_train)\n",
    "test_set = datasets.MNIST(root=\"./data\", train=False, download=True, transform=pipline_test)\n",
    "#加载数据集\n",
    "trainloader = torch.utils.data.DataLoader(train_set, batch_size=64, shuffle=True)\n",
    "testloader = torch.utils.data.DataLoader(test_set, batch_size=32, shuffle=False)"
   ]
  },
  {
   "cell_type": "markdown",
   "id": "3b7235fa-aefa-4a7c-8862-ec563e9279a5",
   "metadata": {},
   "source": [
    "**这里要解释一下Pytorch MNIST数据集标准化为什么是transforms.Normalize((0.1307,), (0.3081,))？**\n",
    "\n",
    "**标准化（Normalization）**是神经网络对数据的一种经常性操作。标准化处理指的是：样本减去它的均值，再除以它的标准差，最终样本将呈现均值为0方差为1的数据分布。\n",
    "\n",
    "神经网络模型偏爱标准化数据，原因是均值为0方差为1的数据在sigmoid、tanh经过激活函数后求导得到的导数很大，反之原始数据不仅分布不均（噪声大）而且数值通常都很大（本例中数值范围是0~255），激活函数后求导得到的导数则接近与0，这也被称为梯度消失。前文已经分析，神经网络是根据函数对权值求导的导数来调整权值，导数越大，调整幅度越大，越快逼近目标函数，反之，导数越小，调整幅度越小，所以说，数据的标准化有利于加快神经网络的训练。\n",
    "\n",
    "除此之外，还需要保持train_set、val_set和test_set标准化系数的一致性。标准化系数就是计算要用到的均值和标准差，在本例中是((0.1307,), (0.3081,))，均值是0.1307，标准差是0.3081，这些系数都是数据集提供方计算好的数据。不同数据集就有不同的标准化系数，例如([0.485, 0.456, 0.406], [0.229, 0.224, 0.225])就是ImageNet dataset的标准化系数（RGB三个通道对应三组系数），当需要将imagenet预训练的参数迁移到另一神经网络时，被迁移的神经网络就需要使用imagenet的系数，否则预训练不仅无法起到应有的作用甚至还会帮倒忙，\n",
    "\n",
    "例如，我们想要用神经网络来识别夜空中的星星，因为黑色是夜空的主旋律，从像素上看黑色就是数据集的均值，标准化操作时，所有图像会减去均值（黑色），如此Imagenet预训练的神经网络很难识别出这些数据是夜空图像！"
   ]
  },
  {
   "cell_type": "markdown",
   "id": "501c973b-5561-4ef7-adfe-078f749560e1",
   "metadata": {},
   "source": [
    "## 1.2 搭建LeNet-5神经网络结构，并定义前向传播的过程"
   ]
  },
  {
   "cell_type": "code",
   "execution_count": 33,
   "id": "f6802c96-6002-4baf-a6d0-bc5c6932d0cc",
   "metadata": {},
   "outputs": [],
   "source": [
    "class LeNet(nn.Module):\n",
    "    def __init__(self):\n",
    "        super(LeNet, self).__init__()\n",
    "        #torch里的Conv2d不含激活函数参数，需要单独列出\n",
    "        self.conv1 = nn.Conv2d(1, 6, 5) \n",
    "        self.relu = nn.ReLU()\n",
    "        self.maxpool1 = nn.MaxPool2d(2, 2)\n",
    "        self.conv2 = nn.Conv2d(6, 16, 5)\n",
    "        self.maxpool2 = nn.MaxPool2d(2, 2)\n",
    "        self.fc1 = nn.Linear(16*5*5, 120)\n",
    "        self.fc2 = nn.Linear(120, 84)\n",
    "        self.fc3 = nn.Linear(84, 10)\n",
    " \n",
    "    def forward(self, x):\n",
    "        x = self.conv1(x)\n",
    "        x = self.relu(x)\n",
    "        x = self.maxpool1(x)\n",
    "        x = self.conv2(x)\n",
    "        x = self.maxpool2(x)\n",
    "        \n",
    "        #这里相当于tf里的flatten，用于打平\n",
    "        x = x.view(-1, 16*5*5)\n",
    "        #https://www.zhihu.com/question/66782101/answer/579393790\n",
    "        #nn 与 nn.functional的区别\n",
    "        x = F.relu(self.fc1(x))\n",
    "        x = F.relu(self.fc2(x))\n",
    "        x = self.fc3(x)\n",
    "        output = F.log_softmax(x, dim=1)\n",
    "        return output"
   ]
  },
  {
   "cell_type": "markdown",
   "id": "435fed7b-ea7f-40d3-b44b-069b74ecd1bb",
   "metadata": {},
   "source": [
    "## 1.3 将定义好的网络结构搭载到GPU/CPU，并定义优化器"
   ]
  },
  {
   "cell_type": "code",
   "execution_count": 34,
   "id": "0475276a-c945-4304-aa04-1c9594bea16a",
   "metadata": {},
   "outputs": [],
   "source": [
    "#创建模型，部署gpu\n",
    "device = torch.device(\"cuda\" if torch.cuda.is_available() else \"cpu\")\n",
    "model = LeNet().to(device)\n",
    "#定义优化器\n",
    "optimizer = optim.Adam(model.parameters(), lr=0.001)"
   ]
  },
  {
   "cell_type": "markdown",
   "id": "6b6f3075-57e1-46cb-ba82-c93e36d07015",
   "metadata": {},
   "source": [
    "## 1.4 定义训练过程"
   ]
  },
  {
   "cell_type": "code",
   "execution_count": 35,
   "id": "59c2c551-6a46-49c7-a10b-b85f3329eb12",
   "metadata": {},
   "outputs": [],
   "source": [
    "def train_runner(model, device, trainloader, optimizer, epoch):\n",
    "    #训练模型, 启用 BatchNormalization 和 Dropout, 将BatchNormalization和Dropout置为True\n",
    "    model.train()\n",
    "    total = 0\n",
    "    correct =0.0\n",
    "    #enumerate迭代已加载的数据集,同时获取数据和数据下标\n",
    "    for i, data in enumerate(trainloader, 0):\n",
    "        inputs, labels = data\n",
    "        #把模型部署到device上\n",
    "        inputs, labels = inputs.to(device), labels.to(device)\n",
    "        #初始化梯度\n",
    "        optimizer.zero_grad()\n",
    "        #保存训练结果\n",
    "        outputs = model(inputs)\n",
    "        #计算损失和\n",
    "        #多分类情况通常使用cross_entropy(交叉熵损失函数), 而对于二分类问题, 通常使用sigmod\n",
    "        loss = F.cross_entropy(outputs, labels)\n",
    "        #获取最大概率的预测结果\n",
    "        #dim=1表示返回每一行的最大值对应的列下标\n",
    "        predict = outputs.argmax(dim=1)\n",
    "        #用于计算正确率\n",
    "        total += labels.size(0)\n",
    "        correct += (predict == labels).sum().item()\n",
    "        #反向传播\n",
    "        loss.backward()\n",
    "        #更新参数\n",
    "        optimizer.step()\n",
    "        \n",
    "        if i % 1000 == 0:\n",
    "            #loss.item()表示当前loss的数值\n",
    "            print(\"Train Epoch{} \\t Loss: {:.6f}, accuracy: {:.6f}%\".format(epoch, loss.item(), 100*(correct/total)))\n",
    "            Loss.append(loss.item())\n",
    "            Accuracy.append(correct/total)\n",
    "    #这里返回最后一次数值\n",
    "    return loss.item(), correct/total\n",
    "    #return Loss, Accuracy"
   ]
  },
  {
   "cell_type": "markdown",
   "id": "1ee02d95-be36-4041-a51f-a90d23e9af52",
   "metadata": {},
   "source": [
    "## 1.5 定义测试过程"
   ]
  },
  {
   "cell_type": "code",
   "execution_count": 36,
   "id": "ea5af177-b284-40a6-9ef9-cb4da76c1e73",
   "metadata": {},
   "outputs": [],
   "source": [
    "def test_runner(model, device, testloader):\n",
    "    #模型验证, 必须要写, 否则只要有输入数据, 即使不训练, 它也会改变权值\n",
    "    #因为调用eval()将不启用 BatchNormalization 和 Dropout, BatchNormalization和Dropout置为False\n",
    "    model.eval()\n",
    "    #统计模型正确率, 设置初始值\n",
    "    correct = 0.0\n",
    "    test_loss = 0.0\n",
    "    total = 0\n",
    "    #torch.no_grad将不会计算梯度, 也不会进行反向传播\n",
    "    with torch.no_grad():\n",
    "        for data, label in testloader:\n",
    "            data, label = data.to(device), label.to(device)\n",
    "            output = model(data)\n",
    "            test_loss += F.cross_entropy(output, label).item()\n",
    "            predict = output.argmax(dim=1)\n",
    "            #计算正确数量\n",
    "            total += label.size(0)\n",
    "            correct += (predict == label).sum().item()\n",
    "        #计算损失值\n",
    "        print(\"test_avarage_loss: {:.6f}, accuracy: {:.6f}%\".format(test_loss/total, 100*(correct/total)))"
   ]
  },
  {
   "cell_type": "markdown",
   "id": "e92fe478-5c21-4be8-9efc-0b09c94532a5",
   "metadata": {},
   "source": [
    "## 1.6 运行"
   ]
  },
  {
   "cell_type": "code",
   "execution_count": 37,
   "id": "37fd3f6b-3bca-4824-9756-a1ab93d55cac",
   "metadata": {},
   "outputs": [
    {
     "name": "stdout",
     "output_type": "stream",
     "text": [
      "start_time 2021-12-29 16:23:06\n",
      "Train Epoch1 \t Loss: 2.296196, accuracy: 6.250000%\n",
      "test_avarage_loss: 0.004202, accuracy: 95.850000%\n",
      "end_time:  2021-12-29 16:23:19 \n",
      "\n",
      "start_time 2021-12-29 16:23:19\n",
      "Train Epoch2 \t Loss: 0.111956, accuracy: 95.312500%\n",
      "test_avarage_loss: 0.002767, accuracy: 97.270000%\n",
      "end_time:  2021-12-29 16:23:32 \n",
      "\n",
      "start_time 2021-12-29 16:23:32\n",
      "Train Epoch3 \t Loss: 0.031504, accuracy: 100.000000%\n",
      "test_avarage_loss: 0.002865, accuracy: 96.910000%\n",
      "end_time:  2021-12-29 16:23:44 \n",
      "\n",
      "start_time 2021-12-29 16:23:44\n",
      "Train Epoch4 \t Loss: 0.175498, accuracy: 92.187500%\n",
      "test_avarage_loss: 0.002199, accuracy: 97.600000%\n",
      "end_time:  2021-12-29 16:23:57 \n",
      "\n",
      "start_time 2021-12-29 16:23:57\n",
      "Train Epoch5 \t Loss: 0.042042, accuracy: 98.437500%\n",
      "test_avarage_loss: 0.002423, accuracy: 97.490000%\n",
      "end_time:  2021-12-29 16:24:10 \n",
      "\n",
      "Finished Training\n"
     ]
    },
    {
     "data": {
      "image/png": "[encoded data removed]",
      "text/plain": [
       "<Figure size 432x288 with 1 Axes>"
      ]
     },
     "metadata": {
      "needs_background": "light"
     },
     "output_type": "display_data"
    },
    {
     "data": {
      "image/png": "[encoded data removed]",
      "text/plain": [
       "<Figure size 432x288 with 1 Axes>"
      ]
     },
     "metadata": {
      "needs_background": "light"
     },
     "output_type": "display_data"
    }
   ],
   "source": [
    "#调用\n",
    "epoch = 5\n",
    "Loss = []\n",
    "Accuracy = []\n",
    "for epoch in range(1, epoch+1):\n",
    "    print(\"start_time\",time.strftime('%Y-%m-%d %H:%M:%S',time.localtime(time.time())))\n",
    "    loss, acc = train_runner(model, device, trainloader, optimizer, epoch)\n",
    "    Loss.append(loss)\n",
    "    Accuracy.append(acc)\n",
    "    test_runner(model, device, testloader)\n",
    "    print(\"end_time: \",time.strftime('%Y-%m-%d %H:%M:%S',time.localtime(time.time())),'\\n')\n",
    "\n",
    "print('Finished Training')\n",
    "plt.subplot(2,1,1)\n",
    "plt.plot(Loss)\n",
    "plt.title('Loss')\n",
    "plt.show()\n",
    "plt.subplot(2,1,2)\n",
    "plt.plot(Accuracy)\n",
    "plt.title('Accuracy')\n",
    "plt.show()"
   ]
  },
  {
   "cell_type": "markdown",
   "id": "c7517214-c63d-4f3e-a6f1-e6dea60658d8",
   "metadata": {},
   "source": [
    "## 1.7 保存模型"
   ]
  },
  {
   "cell_type": "code",
   "execution_count": 38,
   "id": "e6a93bc8-ec65-45f2-9f07-b9b225c77801",
   "metadata": {},
   "outputs": [
    {
     "name": "stdout",
     "output_type": "stream",
     "text": [
      "LeNet(\n",
      "  (conv1): Conv2d(1, 6, kernel_size=(5, 5), stride=(1, 1))\n",
      "  (relu): ReLU()\n",
      "  (maxpool1): MaxPool2d(kernel_size=2, stride=2, padding=0, dilation=1, ceil_mode=False)\n",
      "  (conv2): Conv2d(6, 16, kernel_size=(5, 5), stride=(1, 1))\n",
      "  (maxpool2): MaxPool2d(kernel_size=2, stride=2, padding=0, dilation=1, ceil_mode=False)\n",
      "  (fc1): Linear(in_features=400, out_features=120, bias=True)\n",
      "  (fc2): Linear(in_features=120, out_features=84, bias=True)\n",
      "  (fc3): Linear(in_features=84, out_features=10, bias=True)\n",
      ")\n"
     ]
    }
   ],
   "source": [
    "print(model)\n",
    "#torch.save(model, './models/model-mnist.pth') #保存模型,会出现警告\n",
    "torch.save({'state_dict': model.state_dict()}, 'checkpoint.pth.tar')#不会出现警告"
   ]
  },
  {
   "cell_type": "markdown",
   "id": "b79d9d23-feb1-43b5-81b7-16e41907d153",
   "metadata": {},
   "source": [
    "## 1.8 手写图片的测试"
   ]
  },
  {
   "cell_type": "markdown",
   "id": "474173d9-de04-40e0-8904-5480f186387d",
   "metadata": {},
   "source": [
    "利用刚刚训练的模型进行手写图片的测试。"
   ]
  },
  {
   "cell_type": "code",
   "execution_count": 39,
   "id": "18668036-1fdf-4988-93d5-942770007ee6",
   "metadata": {},
   "outputs": [
    {
     "data": {
      "image/png": "[encoded data removed]",
      "text/plain": [
       "<Figure size 432x288 with 1 Axes>"
      ]
     },
     "metadata": {
      "needs_background": "light"
     },
     "output_type": "display_data"
    },
    {
     "name": "stdout",
     "output_type": "stream",
     "text": [
      "torch.Size([1, 32, 32])\n",
      "概率： tensor([[9.4724e-10, 2.0288e-09, 1.0039e-05, 3.3863e-05, 3.5274e-09, 9.9995e-01,\n",
      "         5.0075e-07, 1.1289e-06, 3.9708e-08, 4.6838e-08]], device='cuda:0',\n",
      "       grad_fn=<SoftmaxBackward>)\n",
      "预测类别： 5\n"
     ]
    }
   ],
   "source": [
    "import cv2\n",
    "\n",
    "if __name__ == '__main__':\n",
    "    device = torch.device('cuda' if torch.cuda.is_available() else 'cpu')\n",
    "    #加载模型方法一\n",
    "    #model = torch.load('./models/model-mnist.pth') \n",
    "    #加载模型方法二，这个方法最终的准确率不高\n",
    "    checkpoint = torch.load('checkpoint.pth.tar')\n",
    "    model.load_state_dict(checkpoint['state_dict'])\n",
    "    \n",
    "    model = model.to(device)\n",
    "    model.eval()    #把模型转为test模式\n",
    "    \n",
    "    #读取要预测的图片\n",
    "    img = cv2.imread(\"./images/test_mnist.jpg\")\n",
    "    #最近邻插值方式修改图片尺寸\n",
    "    img=cv2.resize(img,dsize=(32,32),interpolation=cv2.INTER_NEAREST)\n",
    "    plt.imshow(img,cmap=\"gray\") # 显示图片\n",
    "    plt.axis('off') # 不显示坐标轴\n",
    "    plt.show()\n",
    "    \n",
    "    # 导入图片，图片扩展后为[1，1，32，32]\n",
    "    trans = transforms.Compose(\n",
    "        [\n",
    "            transforms.ToTensor(),\n",
    "            transforms.Normalize((0.1307,), (0.3081,))\n",
    "        ])\n",
    "    img = cv2.cvtColor(img, cv2.COLOR_BGR2GRAY)#图片转为灰度图，因为mnist数据集都是灰度图\n",
    "    img = trans(img)\n",
    "    print(img.shape)\n",
    "    img = img.to(device)\n",
    "    img = img.unsqueeze(0)  #图片扩展多一维,因为输入到保存的模型中是4维的[batch_size,通道,长，宽]，而普通图片只有三维，[通道,长，宽]\n",
    "    \n",
    "    # 预测 \n",
    "    #output = model(img)\n",
    "    #predict = output.argmax(dim=1)\n",
    "    #print(predict.item())\n",
    "    \n",
    "    \n",
    "    \n",
    "    # 预测 \n",
    "    output = model(img)\n",
    "    #https://blog.csdn.net/lz_peter/article/details/84574716 softmax多分类算法\n",
    "    prob = F.softmax(output,dim=1) #prob是10个分类的概率\n",
    "    print(\"概率：\",prob)\n",
    "    value, predicted = torch.max(output.data, 1)#返回每一行中最大值的那个元素，且返回其索引（返回最大元素在这一行的列索引）\n",
    "    predict = output.argmax(dim=1)#直接返回行最大值的列索引\n",
    "    print(\"预测类别：\",predict.item())"
   ]
  },
  {
   "cell_type": "markdown",
   "id": "8e81d545-b462-4a27-be38-d6eac794d657",
   "metadata": {},
   "source": [
    "# 二、使用LeNet-5网络结构创建CIFAR-10手写数字识别分类器"
   ]
  },
  {
   "cell_type": "markdown",
   "id": "ccab3503-491b-498a-a493-63218ec2faab",
   "metadata": {},
   "source": [
    "LeNet-5网络本是用来识别MNIST数据集的，下面我们来将LeNet-5应用到一个比较复杂的例子，识别CIFAR-10数据集。\n",
    "\n",
    "CIFAR-10 是由 Hinton 的学生 Alex Krizhevsky 和 Ilya Sutskever 整理的一个用于识别普适物体的小型数据集。一共包含 10 个类别的 RGB 彩色图 片：飞机（ airlane ）、汽车（ automobile ）、鸟类（ bird ）、猫（ cat ）、鹿（ deer ）、狗（ dog ）、蛙类（ frog ）、马（ horse ）、船（ ship ）和卡车（ truck ）。图片的尺寸为 32×32 ，数据集中一共有 50000 张训练圄片和 10000 张测试图片。 CIFAR-10 的图片样例如图所示。"
   ]
  },
  {
   "cell_type": "markdown",
   "id": "0db4e8fd-d3fa-49e1-937b-12a41326bc51",
   "metadata": {},
   "source": [
    "![](./images/cifar-10.png)"
   ]
  },
  {
   "cell_type": "markdown",
   "id": "f98be375-0b9f-48c0-8a5b-545ca705b681",
   "metadata": {},
   "source": [
    "## 2.1 下载并加载数据，并做出一定的预先处理"
   ]
  },
  {
   "cell_type": "code",
   "execution_count": 42,
   "id": "dc488d07-207f-4951-a178-1fa6c23df3e5",
   "metadata": {},
   "outputs": [
    {
     "name": "stdout",
     "output_type": "stream",
     "text": [
      "Using downloaded and verified file: ./data/CIFAR10\\cifar-10-python.tar.gz\n",
      "Extracting ./data/CIFAR10\\cifar-10-python.tar.gz to ./data/CIFAR10\n",
      "Files already downloaded and verified\n"
     ]
    }
   ],
   "source": [
    "pipline_train = transforms.Compose([\n",
    "    #随机旋转图片\n",
    "    transforms.RandomHorizontalFlip(),\n",
    "    #将图片尺寸resize到32x32\n",
    "    transforms.Resize((32,32)),\n",
    "    #将图片转化为Tensor格式\n",
    "    transforms.ToTensor(),\n",
    "    #正则化(当模型出现过拟合的情况时，用来降低模型的复杂度)\n",
    "    transforms.Normalize((0.5, 0.5, 0.5), (0.5, 0.5, 0.5))\n",
    "])\n",
    "pipline_test = transforms.Compose([\n",
    "    #将图片尺寸resize到32x32\n",
    "    transforms.Resize((32,32)),\n",
    "    transforms.ToTensor(),\n",
    "    transforms.Normalize((0.5, 0.5, 0.5), (0.5, 0.5, 0.5))\n",
    "])\n",
    "#下载数据集\n",
    "train_set = datasets.CIFAR10(root=\"./data/CIFAR10\", train=True, download=True, transform=pipline_train)\n",
    "test_set = datasets.CIFAR10(root=\"./data/CIFAR10\", train=False, download=True, transform=pipline_test)\n",
    "#加载数据集\n",
    "trainloader = torch.utils.data.DataLoader(train_set, batch_size=64, shuffle=True)\n",
    "testloader = torch.utils.data.DataLoader(test_set, batch_size=32, shuffle=False)\n",
    "# 类别信息也是需要我们给定的\n",
    "classes = ('plane', 'car', 'bird', 'cat','deer', 'dog', 'frog', 'horse', 'ship', 'truck')"
   ]
  },
  {
   "cell_type": "markdown",
   "id": "3a8c515f-8810-4adb-8559-1b53e3e17059",
   "metadata": {},
   "source": [
    "## 2.2 搭建LeNet-5神经网络结构，并定义前向传播的过程"
   ]
  },
  {
   "cell_type": "markdown",
   "id": "8bbf4dea-e14e-4616-a8ff-700671b1d55d",
   "metadata": {},
   "source": [
    "LeNet-5网络上文已经搭建过了，由于CIFAR10数据集图像是RGB三通道的，因此LeNet-5网络C1层卷积选择的滤波器需要3通道，网络其它结构跟上文都是一样的。"
   ]
  },
  {
   "cell_type": "code",
   "execution_count": 43,
   "id": "040dde60-eb67-437a-a1a6-e7bc0d0d9055",
   "metadata": {},
   "outputs": [],
   "source": [
    "class LeNetRGB(nn.Module):\n",
    "    def __init__(self):\n",
    "        super(LeNetRGB, self).__init__()\n",
    "        self.conv1 = nn.Conv2d(3, 6, 5)   # 3表示输入是3通道\n",
    "        self.relu = nn.ReLU()\n",
    "        self.maxpool1 = nn.MaxPool2d(2, 2)\n",
    "        self.conv2 = nn.Conv2d(6, 16, 5)\n",
    "        self.maxpool2 = nn.MaxPool2d(2, 2)\n",
    " \n",
    "        self.fc1 = nn.Linear(16*5*5, 120)\n",
    "        self.fc2 = nn.Linear(120, 84)\n",
    "        self.fc3 = nn.Linear(84, 10)\n",
    " \n",
    "    def forward(self, x):\n",
    "        x = self.conv1(x)\n",
    "        x = self.relu(x)\n",
    "        x = self.maxpool1(x)\n",
    "        x = self.conv2(x)\n",
    "        x = self.maxpool2(x)\n",
    "        x = x.view(-1, 16*5*5)\n",
    "        x = F.relu(self.fc1(x))\n",
    "        x = F.relu(self.fc2(x))\n",
    "        x = self.fc3(x)\n",
    "        output = F.log_softmax(x, dim=1)\n",
    "        return output"
   ]
  },
  {
   "cell_type": "markdown",
   "id": "8ea25246-4021-4266-96a1-7b7b286e60aa",
   "metadata": {},
   "source": [
    "## 2.3 将定义好的网络结构搭载到GPU/CPU，并定义优化器"
   ]
  },
  {
   "cell_type": "markdown",
   "id": "5db53e7c-fe1e-456a-a6fe-de57221bf922",
   "metadata": {},
   "source": [
    "使用SGD（随机梯度下降）优化，学习率为0.001，动量为0.9"
   ]
  },
  {
   "cell_type": "code",
   "execution_count": 44,
   "id": "cd80d05f-021e-4bd0-962d-625bf462c72b",
   "metadata": {},
   "outputs": [],
   "source": [
    "#创建模型，部署gpu\n",
    "device = torch.device(\"cuda\" if torch.cuda.is_available() else \"cpu\")\n",
    "model = LeNetRGB().to(device)\n",
    "#定义优化器\n",
    "optimizer = optim.SGD(model.parameters(), lr=0.01, momentum=0.9)\n",
    "#optimizer = optim.Adam(model.parameters(), lr=0.001)"
   ]
  },
  {
   "cell_type": "markdown",
   "id": "35bee4bb-d77e-4542-b9b6-2a6379309c6e",
   "metadata": {},
   "source": [
    "训练和测试函数的定义跟LeNet-5章节定义的一样。"
   ]
  },
  {
   "cell_type": "markdown",
   "id": "8c286804-2cd8-4e00-940e-e4bf17640c07",
   "metadata": {},
   "source": [
    "## 2.4 定义训练过程"
   ]
  },
  {
   "cell_type": "code",
   "execution_count": 45,
   "id": "6fd79683-21e7-4503-bf60-2ac8c2a28ddb",
   "metadata": {},
   "outputs": [],
   "source": [
    "def train_runner(model, device, trainloader, optimizer, epoch):\n",
    "    #训练模型, 启用 BatchNormalization 和 Dropout, 将BatchNormalization和Dropout置为True\n",
    "    model.train()\n",
    "    total = 0\n",
    "    correct =0.0\n",
    "    \n",
    "    #enumerate迭代已加载的数据集,同时获取数据和数据下标\n",
    "    for i, data in enumerate(trainloader, 0):\n",
    "        inputs, labels = data\n",
    "        #把模型部署到device上\n",
    "        inputs, labels = inputs.to(device), labels.to(device)\n",
    "        #初始化梯度\n",
    "        optimizer.zero_grad()\n",
    "        #保存训练结果\n",
    "        outputs = model(inputs)\n",
    "        #计算损失和\n",
    "        #多分类情况通常使用cross_entropy(交叉熵损失函数), 而对于二分类问题, 通常使用sigmod\n",
    "        loss = F.cross_entropy(outputs, labels)\n",
    "        #获取最大概率的预测结果\n",
    "        #dim=1表示返回每一行的最大值对应的列下标\n",
    "        predict = outputs.argmax(dim=1)\n",
    "        total += labels.size(0)\n",
    "        correct += (predict == labels).sum().item()\n",
    "        #反向传播\n",
    "        loss.backward()\n",
    "        #更新参数\n",
    "        optimizer.step()\n",
    "        if i % 1000 == 0:\n",
    "            #loss.item()表示当前loss的数值\n",
    "            print(\"Train Epoch{} \\t Loss: {:.6f}, accuracy: {:.6f}%\".format(epoch, loss.item(), 100*(correct/total)))\n",
    "            Loss.append(loss.item())\n",
    "            Accuracy.append(correct/total)\n",
    "    return loss.item(), correct/total"
   ]
  },
  {
   "cell_type": "markdown",
   "id": "c3e6b611-390a-409d-b74c-bca04b28aaa9",
   "metadata": {},
   "source": [
    "## 2.5 定义测试过程"
   ]
  },
  {
   "cell_type": "code",
   "execution_count": 46,
   "id": "bc964210-8248-4573-ac24-c692a33d1389",
   "metadata": {},
   "outputs": [],
   "source": [
    "def test_runner(model, device, testloader):\n",
    "    #模型验证, 必须要写, 否则只要有输入数据, 即使不训练, 它也会改变权值\n",
    "    #因为调用eval()将不启用 BatchNormalization 和 Dropout, BatchNormalization和Dropout置为False\n",
    "    model.eval()\n",
    "    #统计模型正确率, 设置初始值\n",
    "    correct = 0.0\n",
    "    test_loss = 0.0\n",
    "    total = 0\n",
    "    #torch.no_grad将不会计算梯度, 也不会进行反向传播\n",
    "    with torch.no_grad():\n",
    "        for data, label in testloader:\n",
    "            data, label = data.to(device), label.to(device)\n",
    "            output = model(data)\n",
    "            test_loss += F.cross_entropy(output, label).item()\n",
    "            predict = output.argmax(dim=1)\n",
    "            #计算正确数量\n",
    "            total += label.size(0)\n",
    "            correct += (predict == label).sum().item()\n",
    "        #计算损失值\n",
    "        print(\"test_avarage_loss: {:.6f}, accuracy: {:.6f}%\".format(test_loss/total, 100*(correct/total)))"
   ]
  },
  {
   "cell_type": "markdown",
   "id": "601d32c5-7719-4305-8564-d7d2b91f70c6",
   "metadata": {},
   "source": [
    "## 2.6 运行"
   ]
  },
  {
   "cell_type": "code",
   "execution_count": 47,
   "id": "e5c60ef5-bffc-48ac-a09b-6ec63d8b4882",
   "metadata": {},
   "outputs": [
    {
     "name": "stdout",
     "output_type": "stream",
     "text": [
      "start_time 2021-12-29 16:48:12\n",
      "Train Epoch1 \t Loss: 2.306606, accuracy: 12.500000%\n",
      "test_avarage_loss: 0.045070, accuracy: 47.340000%\n",
      "end_time:  2021-12-29 16:48:24 \n",
      "\n",
      "start_time 2021-12-29 16:48:24\n",
      "Train Epoch2 \t Loss: 1.328040, accuracy: 51.562500%\n",
      "test_avarage_loss: 0.040210, accuracy: 53.600000%\n",
      "end_time:  2021-12-29 16:48:35 \n",
      "\n",
      "start_time 2021-12-29 16:48:35\n",
      "Train Epoch3 \t Loss: 1.298900, accuracy: 50.000000%\n",
      "test_avarage_loss: 0.038545, accuracy: 56.000000%\n",
      "end_time:  2021-12-29 16:48:47 \n",
      "\n",
      "start_time 2021-12-29 16:48:47\n",
      "Train Epoch4 \t Loss: 1.304604, accuracy: 59.375000%\n",
      "test_avarage_loss: 0.035276, accuracy: 60.360000%\n",
      "end_time:  2021-12-29 16:48:59 \n",
      "\n",
      "start_time 2021-12-29 16:48:59\n",
      "Train Epoch5 \t Loss: 1.207372, accuracy: 64.062500%\n",
      "test_avarage_loss: 0.033961, accuracy: 62.020000%\n",
      "end_time:  2021-12-29 16:49:10 \n",
      "\n",
      "start_time 2021-12-29 16:49:10\n",
      "Train Epoch6 \t Loss: 0.957357, accuracy: 64.062500%\n",
      "test_avarage_loss: 0.034754, accuracy: 61.410000%\n",
      "end_time:  2021-12-29 16:49:22 \n",
      "\n",
      "start_time 2021-12-29 16:49:22\n",
      "Train Epoch7 \t Loss: 1.116588, accuracy: 64.062500%\n",
      "test_avarage_loss: 0.033006, accuracy: 63.080000%\n",
      "end_time:  2021-12-29 16:49:34 \n",
      "\n",
      "start_time 2021-12-29 16:49:34\n",
      "Train Epoch8 \t Loss: 0.910296, accuracy: 65.625000%\n",
      "test_avarage_loss: 0.032652, accuracy: 64.320000%\n",
      "end_time:  2021-12-29 16:49:45 \n",
      "\n",
      "start_time 2021-12-29 16:49:45\n",
      "Train Epoch9 \t Loss: 0.702361, accuracy: 81.250000%\n",
      "test_avarage_loss: 0.031079, accuracy: 65.790000%\n",
      "end_time:  2021-12-29 16:49:57 \n",
      "\n",
      "start_time 2021-12-29 16:49:57\n",
      "Train Epoch10 \t Loss: 0.936056, accuracy: 64.062500%\n",
      "test_avarage_loss: 0.032439, accuracy: 65.810000%\n",
      "end_time:  2021-12-29 16:50:09 \n",
      "\n",
      "start_time 2021-12-29 16:50:09\n",
      "Train Epoch11 \t Loss: 0.713483, accuracy: 76.562500%\n",
      "test_avarage_loss: 0.029890, accuracy: 67.020000%\n",
      "end_time:  2021-12-29 16:50:20 \n",
      "\n",
      "start_time 2021-12-29 16:50:20\n",
      "Train Epoch12 \t Loss: 0.709464, accuracy: 73.437500%\n",
      "test_avarage_loss: 0.031154, accuracy: 65.740000%\n",
      "end_time:  2021-12-29 16:50:32 \n",
      "\n",
      "start_time 2021-12-29 16:50:32\n",
      "Train Epoch13 \t Loss: 0.839258, accuracy: 60.937500%\n",
      "test_avarage_loss: 0.030900, accuracy: 66.320000%\n",
      "end_time:  2021-12-29 16:50:44 \n",
      "\n",
      "start_time 2021-12-29 16:50:44\n",
      "Train Epoch14 \t Loss: 0.842195, accuracy: 71.875000%\n",
      "test_avarage_loss: 0.030511, accuracy: 66.860000%\n",
      "end_time:  2021-12-29 16:50:55 \n",
      "\n",
      "start_time 2021-12-29 16:50:55\n",
      "Train Epoch15 \t Loss: 0.940787, accuracy: 67.187500%\n",
      "test_avarage_loss: 0.031348, accuracy: 66.680000%\n",
      "end_time:  2021-12-29 16:51:07 \n",
      "\n",
      "start_time 2021-12-29 16:51:07\n",
      "Train Epoch16 \t Loss: 0.820709, accuracy: 68.750000%\n",
      "test_avarage_loss: 0.030698, accuracy: 67.060000%\n",
      "end_time:  2021-12-29 16:51:19 \n",
      "\n",
      "start_time 2021-12-29 16:51:19\n",
      "Train Epoch17 \t Loss: 0.810926, accuracy: 73.437500%\n",
      "test_avarage_loss: 0.031337, accuracy: 65.670000%\n",
      "end_time:  2021-12-29 16:51:30 \n",
      "\n",
      "start_time 2021-12-29 16:51:30\n",
      "Train Epoch18 \t Loss: 0.668169, accuracy: 71.875000%\n",
      "test_avarage_loss: 0.032901, accuracy: 65.900000%\n",
      "end_time:  2021-12-29 16:51:42 \n",
      "\n",
      "start_time 2021-12-29 16:51:42\n",
      "Train Epoch19 \t Loss: 0.906571, accuracy: 68.750000%\n",
      "test_avarage_loss: 0.030375, accuracy: 68.630000%\n",
      "end_time:  2021-12-29 16:51:54 \n",
      "\n",
      "start_time 2021-12-29 16:51:54\n",
      "Train Epoch20 \t Loss: 0.605934, accuracy: 79.687500%\n",
      "test_avarage_loss: 0.031601, accuracy: 66.550000%\n",
      "end_time:  2021-12-29 16:52:05 \n",
      "\n",
      "Finished Training\n"
     ]
    },
    {
     "data": {
      "image/png": "[encoded data removed]",
      "text/plain": [
       "<Figure size 432x288 with 1 Axes>"
      ]
     },
     "metadata": {
      "needs_background": "light"
     },
     "output_type": "display_data"
    },
    {
     "name": "stderr",
     "output_type": "stream",
     "text": [
      "0it [13:38, ?it/s]\n",
      " 50%|█████     | 85557248/170498071 [13:37<13:31, 104622.26it/s]\n"
     ]
    },
    {
     "data": {
      "image/png": "[encoded data removed]",
      "text/plain": [
       "<Figure size 432x288 with 1 Axes>"
      ]
     },
     "metadata": {
      "needs_background": "light"
     },
     "output_type": "display_data"
    }
   ],
   "source": [
    "#调用\n",
    "epoch = 20\n",
    "Loss = []\n",
    "Accuracy = []\n",
    "for epoch in range(1, epoch+1):\n",
    "    print(\"start_time\",time.strftime('%Y-%m-%d %H:%M:%S',time.localtime(time.time())))\n",
    "    loss, acc = train_runner(model, device, trainloader, optimizer, epoch)\n",
    "    Loss.append(loss)\n",
    "    Accuracy.append(acc)\n",
    "    test_runner(model, device, testloader)\n",
    "    print(\"end_time: \",time.strftime('%Y-%m-%d %H:%M:%S',time.localtime(time.time())),'\\n')\n",
    "\n",
    "print('Finished Training')\n",
    "plt.subplot(2,1,1)\n",
    "plt.plot(Loss)\n",
    "plt.title('Loss')\n",
    "plt.show()\n",
    "plt.subplot(2,1,2)\n",
    "plt.plot(Accuracy)\n",
    "plt.title('Accuracy')\n",
    "plt.show()"
   ]
  },
  {
   "cell_type": "markdown",
   "id": "96e0c005-e5f4-44b0-aa3c-fc7b9adeb72c",
   "metadata": {},
   "source": [
    "## 2.7 保存模型"
   ]
  },
  {
   "cell_type": "code",
   "execution_count": 48,
   "id": "9c3ce7a6-98c8-4d2d-8c1a-bc7b66c6f775",
   "metadata": {},
   "outputs": [
    {
     "name": "stdout",
     "output_type": "stream",
     "text": [
      "LeNetRGB(\n",
      "  (conv1): Conv2d(3, 6, kernel_size=(5, 5), stride=(1, 1))\n",
      "  (relu): ReLU()\n",
      "  (maxpool1): MaxPool2d(kernel_size=2, stride=2, padding=0, dilation=1, ceil_mode=False)\n",
      "  (conv2): Conv2d(6, 16, kernel_size=(5, 5), stride=(1, 1))\n",
      "  (maxpool2): MaxPool2d(kernel_size=2, stride=2, padding=0, dilation=1, ceil_mode=False)\n",
      "  (fc1): Linear(in_features=400, out_features=120, bias=True)\n",
      "  (fc2): Linear(in_features=120, out_features=84, bias=True)\n",
      "  (fc3): Linear(in_features=84, out_features=10, bias=True)\n",
      ")\n"
     ]
    }
   ],
   "source": [
    "print(model)\n",
    "#torch.save(model, './models/model-cifar10.pth') #保存模型\n",
    "torch.save({'state_dict': model.state_dict()}, 'checkpoint.pth.tar')\n",
    "#torch.save(model.state_dict(), './models/net_parms.pkl')#只保存网络中的参数（速度快，占内存少）"
   ]
  },
  {
   "cell_type": "markdown",
   "id": "34e6d0d9-513e-450b-bfe4-288ee5a11c75",
   "metadata": {},
   "source": [
    "## 2.8 模型测试"
   ]
  },
  {
   "cell_type": "markdown",
   "id": "b10d2841-d253-451f-8936-9279e1694478",
   "metadata": {},
   "source": [
    "利用刚刚训练的模型进行CIFAR10类型图片的测试。"
   ]
  },
  {
   "cell_type": "code",
   "execution_count": 17,
   "id": "9f12b716-cb14-45d0-bec1-a8d76d202f31",
   "metadata": {},
   "outputs": [
    {
     "data": {
      "image/png": "[encoded data removed]",
      "text/plain": [
       "<Figure size 432x288 with 1 Axes>"
      ]
     },
     "metadata": {
      "needs_background": "light"
     },
     "output_type": "display_data"
    },
    {
     "name": "stdout",
     "output_type": "stream",
     "text": [
      "概率： tensor([[7.6907e-01, 3.3997e-03, 4.8003e-03, 4.2978e-05, 1.2168e-02, 6.8751e-06,\n",
      "         3.2019e-06, 1.6024e-04, 1.2705e-01, 8.3300e-02]],\n",
      "       grad_fn=<SoftmaxBackward>)\n",
      "5\n",
      "预测类别： plane\n"
     ]
    }
   ],
   "source": [
    "from PIL import Image\n",
    "import numpy as np\n",
    "\n",
    "if __name__ == '__main__':\n",
    "    device = torch.device('cuda' if torch.cuda.is_available() else 'cpu')\n",
    "    model = torch.load('./models/model-cifar10.pth') #加载模型\n",
    "    model = model.to(device)\n",
    "    model.eval()    #把模型转为test模式\n",
    "    \n",
    "    #读取要预测的图片\n",
    "    # 读取要预测的图片\n",
    "    img = Image.open(\"./images/test_cifar10.png\").convert('RGB') # 读取图像\n",
    "    #img.show()\n",
    "    plt.imshow(img) # 显示图片\n",
    "    plt.axis('off') # 不显示坐标轴\n",
    "    plt.show()\n",
    "    \n",
    "    # 导入图片，图片扩展后为[1，1，32，32]\n",
    "    trans = transforms.Compose(\n",
    "        [\n",
    "            #将图片尺寸resize到32x32\n",
    "            transforms.Resize((32,32)),\n",
    "            transforms.ToTensor(),\n",
    "            transforms.Normalize((0.5, 0.5, 0.5), (0.5, 0.5, 0.5))\n",
    "        ])\n",
    "    img = trans(img)\n",
    "    img = img.to(device)\n",
    "    img = img.unsqueeze(0)  #图片扩展多一维,因为输入到保存的模型中是4维的[batch_size,通道,长，宽]，而普通图片只有三维，[通道,长，宽]\n",
    "    \n",
    "    # 预测 \n",
    "    classes = ('plane', 'car', 'bird', 'cat', 'deer', 'dog', 'frog', 'horse', 'ship', 'truck')\n",
    "    output = model(img)\n",
    "    prob = F.softmax(output,dim=1) #prob是10个分类的概率\n",
    "    print(\"概率：\",prob)\n",
    "    print(predict.item())\n",
    "    value, predicted = torch.max(output.data, 1)\n",
    "    predict = output.argmax(dim=1)\n",
    "    pred_class = classes[predicted.item()]\n",
    "    print(\"预测类别：\",pred_class)"
   ]
  },
  {
   "cell_type": "markdown",
   "id": "d63545ed-4970-482a-928c-542aaaced98d",
   "metadata": {},
   "source": [
    "# 三、用LeNet-5训练自己的数据"
   ]
  },
  {
   "cell_type": "markdown",
   "id": "afc92632-0719-4eee-8a18-0123a5391363",
   "metadata": {},
   "source": [
    "下面使用LeNet-5网络来训练本地的数据并进行测试。数据集是本地的LED数字0-9，尺寸为28x28单通道，跟MNIST数据集类似。训练集0-9各95张，测试集0~9各40张。图片样例如图所示："
   ]
  },
  {
   "cell_type": "markdown",
   "id": "e3c121c6-5ca8-4f57-a872-a57cb17042f8",
   "metadata": {},
   "source": [
    "![](./images/lednum.png)"
   ]
  },
  {
   "cell_type": "markdown",
   "id": "b18d4ed6-febd-42fa-b882-7ca1c6f68d89",
   "metadata": {},
   "source": [
    "## 3.1 数据预处理 "
   ]
  },
  {
   "cell_type": "markdown",
   "id": "aad7f71c-ee55-4255-9fe9-86934c4087ef",
   "metadata": {},
   "source": [
    "### 制作图片数据的索引"
   ]
  },
  {
   "cell_type": "markdown",
   "id": "7eb91506-7ef2-4be3-a51c-e2c6a2bcf1d8",
   "metadata": {},
   "source": [
    "对于训练集和测试集，要分别制作对应的图片数据索引，即train.txt和test.txt两个文件，每个txt中包含每个图片的目录和对应类别class。示意图如下："
   ]
  },
  {
   "cell_type": "markdown",
   "id": "7430607d-051f-45b5-bb89-62de634df43a",
   "metadata": {},
   "source": [
    "![](./images/index.png)"
   ]
  },
  {
   "cell_type": "markdown",
   "id": "c075583e-f374-4a18-bde3-d413a7fcc5f0",
   "metadata": {},
   "source": [
    "制作图片数据索引的python脚本程序如下："
   ]
  },
  {
   "cell_type": "code",
   "execution_count": 3,
   "id": "c8ffe39c-1a0a-4117-bb88-0fa1e4af5aff",
   "metadata": {},
   "outputs": [],
   "source": [
    "import os\n",
    "\n",
    "train_txt_path = os.path.join(\"data\", \"LEDNUM\", \"train.txt\")\n",
    "train_dir = os.path.join(\"data\", \"LEDNUM\", \"train_data\")\n",
    "valid_txt_path = os.path.join(\"data\", \"LEDNUM\", \"test.txt\")\n",
    "valid_dir = os.path.join(\"data\", \"LEDNUM\", \"test_data\")\n",
    "\n",
    "# def my_mkdir(my_dir):\n",
    "#     if not os.path.isdir(my_dir):\n",
    "#         os.makedirs(my_dir)\n",
    "\n",
    "# my_mkdir(train_txt_path)\n",
    "# my_mkdir(train_dir)\n",
    "# my_mkdir(valid_txt_path)\n",
    "# my_mkdir(valid_dir)\n",
    "\n",
    "def gen_txt(txt_path, img_dir):\n",
    "    f = open(txt_path, 'w')\n",
    "    \n",
    "    for root, s_dirs, _ in os.walk(img_dir, topdown=True):  # 获取 train文件下各文件夹名称\n",
    "        for sub_dir in s_dirs:\n",
    "            i_dir = os.path.join(root, sub_dir)             # 获取各类的文件夹 绝对路径\n",
    "            img_list = os.listdir(i_dir)                    # 获取类别文件夹下所有png图片的路径\n",
    "            for i in range(len(img_list)):\n",
    "                if not img_list[i].endswith('jpg'):         # 若不是png文件，跳过\n",
    "                    continue\n",
    "                label = img_list[i].split('_')[0]\n",
    "                img_path = os.path.join(i_dir, img_list[i])\n",
    "                line = img_path + ' ' + label + '\\n'\n",
    "                f.write(line)\n",
    "    f.close()\n",
    "\n",
    "if __name__ == '__main__':\n",
    "    gen_txt(train_txt_path, train_dir)\n",
    "    gen_txt(valid_txt_path, valid_dir)"
   ]
  },
  {
   "cell_type": "markdown",
   "id": "ba4c80d5-49b3-4320-a735-c2aa08303f57",
   "metadata": {},
   "source": [
    "运行脚本之后就在./data/LEDNUM/目录下生成train.txt和test.txt两个索引文件。"
   ]
  },
  {
   "cell_type": "markdown",
   "id": "3dacc2cd-6dad-4d96-95b1-14dc6d8a60d5",
   "metadata": {},
   "source": [
    "### 构建Dataset子类"
   ]
  },
  {
   "cell_type": "markdown",
   "id": "21816f87-9a27-4afb-9777-4e7062ea9364",
   "metadata": {},
   "source": [
    "pytorch 加载自己的数据集，需要写一个继承自torch.utils.data中Dataset类，并修改其中的__init__方法、__getitem__方法、__len__方法。默认加载的都是图片，__init__的目的是得到一个包含数据和标签的list，每个元素能找到图片位置和其对应标签。然后用__getitem__方法得到每个元素的图像像素矩阵和标签，返回img和label。 "
   ]
  },
  {
   "cell_type": "code",
   "execution_count": 19,
   "id": "26c4a836-480f-4d34-b678-19f28c5c01c1",
   "metadata": {},
   "outputs": [],
   "source": [
    "from PIL import Image\n",
    "from torch.utils.data import Dataset\n",
    "\n",
    "class MyDataset(Dataset):\n",
    "    def __init__(self, txt_path, transform = None, target_transform = None):\n",
    "        fh = open(txt_path, 'r')\n",
    "        imgs = []\n",
    "        for line in fh:\n",
    "            line = line.rstrip()\n",
    "            words = line.split()\n",
    "            imgs.append((words[0], int(words[1])))\n",
    "            self.imgs = imgs \n",
    "            self.transform = transform\n",
    "            self.target_transform = target_transform\n",
    "    def __getitem__(self, index):\n",
    "        fn, label = self.imgs[index]\n",
    "        #img = Image.open(fn).convert('RGB') \n",
    "        img = Image.open(fn)\n",
    "        if self.transform is not None:\n",
    "            img = self.transform(img) \n",
    "        return img, label\n",
    "    def __len__(self):\n",
    "        return len(self.imgs)"
   ]
  },
  {
   "cell_type": "markdown",
   "id": "e7445765-1da5-4742-9391-a8b8e3571b5e",
   "metadata": {},
   "source": [
    "getitem是核心函数。self.imgs是一个list，self.imgs[index]是一个str，包含图片路径，图片标签，这些信息是从上面生成的txt文件中读取；利用Image.open对图片进行读取，注意这里的img是单通道还是三通道的；self.transform(img)对图片进行处理，这个transform里边可以实现减均值、除标准差、随机裁剪、旋转、翻转、放射变换等操作。"
   ]
  },
  {
   "cell_type": "markdown",
   "id": "0c0a6ad3-c5ba-416b-a5a0-fa0686f15885",
   "metadata": {},
   "source": [
    "当Mydataset构建好，剩下的操作就交给DataLoder，在DataLoder中，会触发Mydataset中的getiterm函数读取一张图片的数据和标签，并拼接成一个batch返回，作为模型真正的输入。"
   ]
  },
  {
   "cell_type": "code",
   "execution_count": 20,
   "id": "36c1f813-e1c1-413b-b141-a86ad3b01e58",
   "metadata": {},
   "outputs": [],
   "source": [
    "pipline_train = transforms.Compose([\n",
    "    #随机旋转图片\n",
    "    transforms.RandomHorizontalFlip(),\n",
    "    #将图片尺寸resize到32x32\n",
    "    transforms.Resize((32,32)),\n",
    "    #将图片转化为Tensor格式\n",
    "    transforms.ToTensor(),\n",
    "    #正则化(当模型出现过拟合的情况时，用来降低模型的复杂度)\n",
    "    transforms.Normalize((0.1307,),(0.3081,))    \n",
    "])\n",
    "pipline_test = transforms.Compose([\n",
    "    #将图片尺寸resize到32x32\n",
    "    transforms.Resize((32,32)),\n",
    "    transforms.ToTensor(),\n",
    "    transforms.Normalize((0.1307,),(0.3081,))\n",
    "])\n",
    "train_data = MyDataset('./data/LEDNUM/train.txt', transform=pipline_train)\n",
    "test_data = MyDataset('./data/LEDNUM/test.txt', transform=pipline_test)\n",
    "\n",
    "#train_data 和test_data包含多有的训练与测试数据，调用DataLoader批量加载\n",
    "trainloader = torch.utils.data.DataLoader(dataset=train_data, batch_size=8, shuffle=True)\n",
    "testloader = torch.utils.data.DataLoader(dataset=test_data, batch_size=4, shuffle=False)"
   ]
  },
  {
   "cell_type": "markdown",
   "id": "695d40e7-78ad-4f7c-8a80-44240b46c496",
   "metadata": {},
   "source": [
    "## 3.2 搭建LeNet-5神经网络结构"
   ]
  },
  {
   "cell_type": "code",
   "execution_count": 21,
   "id": "a966bbd6-9ae0-4b07-ac8a-f64cf6ac5428",
   "metadata": {},
   "outputs": [],
   "source": [
    "class LeNet(nn.Module):\n",
    "    def __init__(self):\n",
    "        super(LeNet, self).__init__()\n",
    "        self.conv1 = nn.Conv2d(1, 6, 5) \n",
    "        self.relu = nn.ReLU()\n",
    "        self.maxpool1 = nn.MaxPool2d(2, 2)\n",
    "        self.conv2 = nn.Conv2d(6, 16, 5)\n",
    "        self.maxpool2 = nn.MaxPool2d(2, 2)\n",
    "        self.fc1 = nn.Linear(16*5*5, 120)\n",
    "        self.fc2 = nn.Linear(120, 84)\n",
    "        self.fc3 = nn.Linear(84, 10)\n",
    " \n",
    "    def forward(self, x):\n",
    "        x = self.conv1(x)\n",
    "        x = self.relu(x)\n",
    "        x = self.maxpool1(x)\n",
    "        x = self.conv2(x)\n",
    "        x = self.maxpool2(x)\n",
    "        x = x.view(-1, 16*5*5)\n",
    "        x = F.relu(self.fc1(x))\n",
    "        x = F.relu(self.fc2(x))\n",
    "        x = self.fc3(x)\n",
    "        output = F.log_softmax(x, dim=1)\n",
    "        return output"
   ]
  },
  {
   "cell_type": "markdown",
   "id": "d006592e-4447-4729-a58a-6e61ed0a52a6",
   "metadata": {},
   "source": [
    "## 3.3 将定义好的网络结构搭载到GPU/CPU，并定义优化器"
   ]
  },
  {
   "cell_type": "code",
   "execution_count": 22,
   "id": "d94a236c-d6d6-4f7e-8146-b01a62904208",
   "metadata": {},
   "outputs": [],
   "source": [
    "#创建模型，部署gpu\n",
    "device = torch.device(\"cuda\" if torch.cuda.is_available() else \"cpu\")\n",
    "model = LeNet().to(device)\n",
    "#定义优化器\n",
    "optimizer = optim.Adam(model.parameters(), lr=0.001)"
   ]
  },
  {
   "cell_type": "markdown",
   "id": "6accdf41-017e-47e0-8437-e9ef990bbfba",
   "metadata": {},
   "source": [
    "### 3.4 定义训练函数"
   ]
  },
  {
   "cell_type": "code",
   "execution_count": 23,
   "id": "8c9f793d-3f6e-461b-82b3-c6108b1d32f0",
   "metadata": {},
   "outputs": [],
   "source": [
    "def train_runner(model, device, trainloader, optimizer, epoch):\n",
    "    #训练模型, 启用 BatchNormalization 和 Dropout, 将BatchNormalization和Dropout置为True\n",
    "    model.train()\n",
    "    total = 0\n",
    "    correct =0.0\n",
    "    \n",
    "    #enumerate迭代已加载的数据集,同时获取数据和数据下标\n",
    "    for i, data in enumerate(trainloader, 0):\n",
    "        inputs, labels = data\n",
    "        #把模型部署到device上\n",
    "        inputs, labels = inputs.to(device), labels.to(device)\n",
    "        #初始化梯度\n",
    "        optimizer.zero_grad()\n",
    "        #保存训练结果\n",
    "        outputs = model(inputs)\n",
    "        #计算损失和\n",
    "        #多分类情况通常使用cross_entropy(交叉熵损失函数), 而对于二分类问题, 通常使用sigmod\n",
    "        loss = F.cross_entropy(outputs, labels)\n",
    "        #获取最大概率的预测结果\n",
    "        #dim=1表示返回每一行的最大值对应的列下标\n",
    "        predict = outputs.argmax(dim=1)\n",
    "        total += labels.size(0)\n",
    "        correct += (predict == labels).sum().item()\n",
    "        #反向传播\n",
    "        loss.backward()\n",
    "        #更新参数\n",
    "        optimizer.step()\n",
    "        if i % 100 == 0:\n",
    "            #loss.item()表示当前loss的数值\n",
    "            print(\"Train Epoch{} \\t Loss: {:.6f}, accuracy: {:.6f}%\".format(epoch, loss.item(), 100*(correct/total)))\n",
    "            Loss.append(loss.item())\n",
    "            Accuracy.append(correct/total)\n",
    "    return loss.item(), correct/total"
   ]
  },
  {
   "cell_type": "markdown",
   "id": "75074ca9-a613-4ace-8a13-5ed991c51751",
   "metadata": {},
   "source": [
    "## 3.5 定义测试函数"
   ]
  },
  {
   "cell_type": "code",
   "execution_count": 24,
   "id": "19f6ef40-ea97-4f22-a517-4706fa3da297",
   "metadata": {},
   "outputs": [],
   "source": [
    "def test_runner(model, device, testloader):\n",
    "    #模型验证, 必须要写, 否则只要有输入数据, 即使不训练, 它也会改变权值\n",
    "    #因为调用eval()将不启用 BatchNormalization 和 Dropout, BatchNormalization和Dropout置为False\n",
    "    model.eval()\n",
    "    #统计模型正确率, 设置初始值\n",
    "    correct = 0.0\n",
    "    test_loss = 0.0\n",
    "    total = 0\n",
    "    #torch.no_grad将不会计算梯度, 也不会进行反向传播\n",
    "    with torch.no_grad():\n",
    "        for data, label in testloader:\n",
    "            data, label = data.to(device), label.to(device)\n",
    "            output = model(data)\n",
    "            test_loss += F.cross_entropy(output, label).item()\n",
    "            predict = output.argmax(dim=1)\n",
    "            #计算正确数量\n",
    "            total += label.size(0)\n",
    "            correct += (predict == label).sum().item()\n",
    "        #计算损失值\n",
    "        print(\"test_avarage_loss: {:.6f}, accuracy: {:.6f}%\".format(test_loss/total, 100*(correct/total)))"
   ]
  },
  {
   "cell_type": "markdown",
   "id": "300ad714-e233-4840-99f0-b53a76d53098",
   "metadata": {},
   "source": [
    "## 3.6 运行"
   ]
  },
  {
   "cell_type": "code",
   "execution_count": 25,
   "id": "de367098-3488-4bf2-a91b-53fb38ee53ec",
   "metadata": {},
   "outputs": [
    {
     "name": "stdout",
     "output_type": "stream",
     "text": [
      "start_time 2021-11-27 22:29:46\n",
      "Train Epoch1 \t Loss: 2.381566, accuracy: 12.500000%\n",
      "Train Epoch1 \t Loss: 0.016064, accuracy: 75.123762%\n",
      "test_avarage_loss: 0.013390, accuracy: 98.250000%\n",
      "end_time:  2021-11-27 22:29:47 \n",
      "\n",
      "start_time 2021-11-27 22:29:47\n",
      "Train Epoch2 \t Loss: 0.005825, accuracy: 100.000000%\n",
      "Train Epoch2 \t Loss: 0.001058, accuracy: 99.752475%\n",
      "test_avarage_loss: 0.026550, accuracy: 96.250000%\n",
      "end_time:  2021-11-27 22:29:48 \n",
      "\n",
      "start_time 2021-11-27 22:29:48\n",
      "Train Epoch3 \t Loss: 0.149143, accuracy: 87.500000%\n",
      "Train Epoch3 \t Loss: 0.001346, accuracy: 99.628713%\n",
      "test_avarage_loss: 0.008281, accuracy: 98.000000%\n",
      "end_time:  2021-11-27 22:29:50 \n",
      "\n",
      "start_time 2021-11-27 22:29:50\n",
      "Train Epoch4 \t Loss: 0.002901, accuracy: 100.000000%\n",
      "Train Epoch4 \t Loss: 0.001207, accuracy: 99.504950%\n",
      "test_avarage_loss: 0.000260, accuracy: 100.000000%\n",
      "end_time:  2021-11-27 22:29:51 \n",
      "\n",
      "start_time 2021-11-27 22:29:51\n",
      "Train Epoch5 \t Loss: 0.000148, accuracy: 100.000000%\n",
      "Train Epoch5 \t Loss: 0.005780, accuracy: 99.752475%\n",
      "test_avarage_loss: 0.001154, accuracy: 100.000000%\n",
      "end_time:  2021-11-27 22:29:53 \n",
      "\n",
      "Finished Training\n"
     ]
    },
    {
     "data": {
      "image/png": "[encoded data removed]",
      "text/plain": [
       "<Figure size 432x288 with 1 Axes>"
      ]
     },
     "metadata": {
      "needs_background": "light"
     },
     "output_type": "display_data"
    },
    {
     "data": {
      "image/png": "[encoded data removed]",
      "text/plain": [
       "<Figure size 432x288 with 1 Axes>"
      ]
     },
     "metadata": {
      "needs_background": "light"
     },
     "output_type": "display_data"
    }
   ],
   "source": [
    "#调用\n",
    "epoch = 5\n",
    "Loss = []\n",
    "Accuracy = []\n",
    "for epoch in range(1, epoch+1):\n",
    "    print(\"start_time\",time.strftime('%Y-%m-%d %H:%M:%S',time.localtime(time.time())))\n",
    "    loss, acc = train_runner(model, device, trainloader, optimizer, epoch)\n",
    "    Loss.append(loss)\n",
    "    Accuracy.append(acc)\n",
    "    test_runner(model, device, testloader)\n",
    "    print(\"end_time: \",time.strftime('%Y-%m-%d %H:%M:%S',time.localtime(time.time())),'\\n')\n",
    "\n",
    "print('Finished Training')\n",
    "plt.subplot(2,1,1)\n",
    "plt.plot(Loss)\n",
    "plt.title('Loss')\n",
    "plt.show()\n",
    "plt.subplot(2,1,2)\n",
    "plt.plot(Accuracy)\n",
    "plt.title('Accuracy')\n",
    "plt.show()"
   ]
  },
  {
   "cell_type": "markdown",
   "id": "fb77c96d-0adc-497a-ad21-31be80893cff",
   "metadata": {},
   "source": [
    "## 3.7 模型保存"
   ]
  },
  {
   "cell_type": "code",
   "execution_count": 26,
   "id": "aaab3d57-6ef0-443e-84ae-95db1f3b74f7",
   "metadata": {},
   "outputs": [],
   "source": [
    "model\n",
    "torch.save(model, './models/model-mine.pth') #保存模型"
   ]
  },
  {
   "cell_type": "markdown",
   "id": "93fdf53f-c507-4d12-9f0d-8a1bfc25b388",
   "metadata": {},
   "source": [
    "## 3.8 模型测试"
   ]
  },
  {
   "cell_type": "markdown",
   "id": "7f07df9f-0265-43f2-b4c1-dce2ffd484d4",
   "metadata": {},
   "source": [
    "下面使用上面训练的模型对一张LED图片进行测试。"
   ]
  },
  {
   "cell_type": "code",
   "execution_count": 27,
   "id": "be37046c-5290-4013-92f9-2ba9e75be7ae",
   "metadata": {},
   "outputs": [
    {
     "data": {
      "image/png": "[encoded data removed]",
      "text/plain": [
       "<Figure size 432x288 with 1 Axes>"
      ]
     },
     "metadata": {
      "needs_background": "light"
     },
     "output_type": "display_data"
    },
    {
     "name": "stdout",
     "output_type": "stream",
     "text": [
      "概率： tensor([[7.2506e-11, 7.0065e-18, 7.1749e-06, 7.4855e-13, 7.3532e-08, 8.5405e-17,\n",
      "         2.5753e-15, 9.7887e-10, 2.7855e-05, 9.9996e-01]],\n",
      "       grad_fn=<SoftmaxBackward>)\n",
      "预测类别： 9\n"
     ]
    }
   ],
   "source": [
    "from PIL import Image\n",
    "import numpy as np\n",
    "\n",
    "if __name__ == '__main__':\n",
    "    device = torch.device('cuda' if torch.cuda.is_available() else 'cpu')\n",
    "    model = torch.load('./models/model-mine.pth') #加载模型\n",
    "    model = model.to(device)\n",
    "    model.eval()    #把模型转为test模式\n",
    "    \n",
    "    #读取要预测的图片\n",
    "    # 读取要预测的图片\n",
    "    img = Image.open(\"./images/test_led.jpg\") # 读取图像\n",
    "    #img.show()\n",
    "    plt.imshow(img,cmap=\"gray\") # 显示图片\n",
    "    plt.axis('off') # 不显示坐标轴\n",
    "    plt.show()\n",
    "    \n",
    "    # 导入图片，图片扩展后为[1，1，32，32]\n",
    "    trans = transforms.Compose(\n",
    "        [\n",
    "            #将图片尺寸resize到32x32\n",
    "            transforms.Resize((32,32)),\n",
    "            transforms.ToTensor(),\n",
    "            transforms.Normalize((0.1307,), (0.3081,))\n",
    "        ])\n",
    "    img = trans(img)\n",
    "    img = img.to(device)\n",
    "    img = img.unsqueeze(0)  #图片扩展多一维,因为输入到保存的模型中是4维的[batch_size,通道,长，宽]，而普通图片只有三维，[通道,长，宽]\n",
    "    \n",
    "    # 预测 \n",
    "    output = model(img)\n",
    "    prob = F.softmax(output,dim=1) #prob是10个分类的概率\n",
    "    print(\"概率：\",prob)\n",
    "    value, predicted = torch.max(output.data, 1)\n",
    "    predict = output.argmax(dim=1)\n",
    "    print(\"预测类别：\",predict.item())"
   ]
  },
  {
   "cell_type": "code",
   "execution_count": null,
   "id": "f4496c8b-36d5-418d-9a8e-d5bf7fce4d11",
   "metadata": {},
   "outputs": [],
   "source": []
  }
 ],
 "metadata": {
  "interpreter": {
   "hash": "8713b959c473213f6321af60b65d7a54246982a618e5d0c50f3e08c46d0d3a15"
  },
  "kernelspec": {
   "display_name": "Python [conda env:.conda-pytorch] *",
   "language": "python",
   "name": "python3"
  },
  "language_info": {
   "codemirror_mode": {
    "name": "ipython",
    "version": 3
   },
   "file_extension": ".py",
   "mimetype": "text/x-python",
   "name": "python",
   "nbconvert_exporter": "python",
   "pygments_lexer": "ipython3",
   "version": "3.7.10"
  }
 },
 "nbformat": 4,
 "nbformat_minor": 5
}
